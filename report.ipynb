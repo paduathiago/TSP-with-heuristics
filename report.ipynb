{
 "cells": [
  {
   "cell_type": "markdown",
   "metadata": {},
   "source": [
    "# Trabalho de Implementação - Heurísticas e Metaheurísticas\n",
    "## Thiago Pádua de Carvalho - 2020007066"
   ]
  },
  {
   "cell_type": "markdown",
   "metadata": {},
   "source": [
    "### Heurística Construtiva - Nearest Neighbour\n",
    "A heurística construtiva escolhida foi a Nearest Neighbour. Sua estratégia é simples e consegue atingir uma boa aproximação do valor ótimo de maneira relativamente eficiente. A ideia é começar em um vértice arbitrário e, a partir dele, escolher o mais próximo que ainda não foi visitado. O algoritmo termina quando um ciclo hamiltoniano com nós correspondentes a todas as cidades é completo. A complexidade é O(n²) no pior caso, onde n corresponde ao número de cidades (pontos).\n",
    "\n",
    "#### Implementação\n",
    "Instâncias geométricas, onde as cidades correspondem a pontos no plano e a distância entre duas cidades depende de suas coordenadas apresentam a vantagem de possibilitar descartar rapidamente grandes grupos de arestas, aproveitando a geometria com estruturas de dados apropriadas.\n",
    "\n",
    "##### **K-D Tree**\n",
    "Em particular, para pontos no plano, é possível construir em tempo O(Nlog⁡N) uma estrutura de dados (ED) que permita responder a consultas de vizinhos mais próximos em tempo médio bem inferior a O(N) por consulta. A estrutura escolhida foi a k-d tree, com k = 2 dimensões.\n",
    "\n",
    "Árvores desse tipo são similares a Binary Seach Trees. A diferença é que, em vez de comparar a chave de busca com a chave do nó atual, ela é comparada com a coordenada correspondente do nó atual. A cada nível da árvore, a dimensão da comparação é alternada. A árvore é construída recursivamente, de maneira que cada nó acrescentado divide o espaço em duas regiões menores, até que cada nó contenha um ponto. Desse modo, o número de operações necessárias para encontrar vizinhos mais próximos geralmente é em média O(log⁡N), quando a árvore á balanceada\n",
    "\n",
    "![K-D Tree](KDtree.png)\n",
    "\n",
    "Sendo assim, os passos da heurística são os seguintes:\n",
    "```\n",
    "1. Construir a k-d tree com as cidades\n",
    "2. Inicializar o ciclo hamiltoniano com uma cidade arbitrária\n",
    "3. Enquanto houver cidades não visitadas:\n",
    "    4. Encontrar a cidade mais próxima da última cidade visitada\n",
    "    5. Adicionar a cidade ao ciclo\n",
    "    6. Remover a última cidade visitada da k-d tree\n",
    "7. Adicionar a primeira cidade ao ciclo\n",
    "```\n",
    "\n"
   ]
  },
  {
   "cell_type": "code",
   "execution_count": null,
   "metadata": {},
   "outputs": [],
   "source": []
  }
 ],
 "metadata": {
  "language_info": {
   "name": "python"
  }
 },
 "nbformat": 4,
 "nbformat_minor": 2
}
