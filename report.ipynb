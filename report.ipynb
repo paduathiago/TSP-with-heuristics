{
 "cells": [
  {
   "cell_type": "markdown",
   "metadata": {},
   "source": [
    "# Trabalho de Implementação - Heurísticas e Metaheurísticas\n",
    "## Thiago Pádua de Carvalho - 2020007066"
   ]
  },
  {
   "cell_type": "markdown",
   "metadata": {},
   "source": [
    "### Heurística Construtiva - Nearest Neighbour\n",
    "A heurística construtiva escolhida foi a Nearest Neighbour. Sua estratégia é simples e consegue atingir uma boa aproximação do valor ótimo de maneira relativamente eficiente. A ideia é começar em um vértice arbitrário e, a partir dele, escolher o mais próximo que ainda não foi visitado. O algoritmo termina quando um ciclo hamiltoniano com nós correspondentes a todas as cidades é completo. A complexidade é O(n²) no pior caso, onde n corresponde ao número de cidades (pontos).\n",
    "\n",
    "#### Implementação\n",
    "Instâncias geométricas, onde as cidades correspondem a pontos no plano e a distância entre duas cidades depende de suas coordenadas apresentam a vantagem de possibilitar descartar rapidamente grandes grupos de arestas, aproveitando a geometria com estruturas de dados apropriadas.\n",
    "\n",
    "##### **K-D Tree**\n",
    "Em particular, para pontos no plano, é possível construir em tempo O(Nlog⁡N) uma estrutura de dados (ED) que permita responder a consultas de vizinhos mais próximos em tempo médio bem inferior a O(N) por consulta. A estrutura escolhida foi a k-d tree, com k = 2 dimensões.\n",
    "\n",
    "Árvores desse tipo são similares a Binary Seach Trees. A diferença é que, em vez de comparar a chave de busca com a chave do nó atual, ela é comparada com a coordenada correspondente do nó atual. A cada nível da árvore, a dimensão da comparação é alternada. A árvore é construída recursivamente, de maneira que cada nó acrescentado divide o espaço em duas regiões menores, até que cada nó contenha um ponto. Desse modo, o número de operações necessárias para encontrar vizinhos mais próximos geralmente é em média O(log⁡N), quando a árvore á balanceada\n",
    "\n",
    "![K-D Tree](KDtree.png)\n",
    "\n",
    "Sendo assim, os passos da heurística são os seguintes:\n",
    "```\n",
    "1. Construir a k-d tree com as cidades\n",
    "2. Inicializar o ciclo hamiltoniano com uma cidade arbitrária\n",
    "3. Enquanto houver cidades não visitadas:\n",
    "    4. Encontrar a cidade mais próxima da última cidade visitada\n",
    "    5. Adicionar a cidade ao ciclo\n",
    "    6. Remover a última cidade visitada da k-d tree\n",
    "7. Adicionar a primeira cidade ao ciclo\n",
    "```\n",
    "\n"
   ]
  },
  {
   "cell_type": "markdown",
   "metadata": {},
   "source": [
    "### Análise dos Resultados"
   ]
  },
  {
   "cell_type": "code",
   "execution_count": 210,
   "metadata": {},
   "outputs": [],
   "source": [
    "import os\n",
    "import pandas as pd\n",
    "import re\n",
    "import subprocess\n",
    "import time"
   ]
  },
  {
   "cell_type": "code",
   "execution_count": 275,
   "metadata": {},
   "outputs": [],
   "source": [
    "class Report:\n",
    "    def __init__(self):\n",
    "        self.df = pd.DataFrame(columns=[\"Instance\", \"Heuristic\", \"Time (s)\", \"Result\"])\n",
    "        self.numeric_columns = [\"Time (s)\", \"Result\"]\n",
    "\n",
    "\n",
    "    def generate_report(self, instance_path, heuristic=\"Nearest Neighbor\"):\n",
    "        start_time = time.time()\n",
    "        result = subprocess.run(['./heuristic', instance_path], capture_output=True, text=True)\n",
    "        end_time = time.time()\n",
    "        elapsed_time = end_time - start_time\n",
    "\n",
    "        instance_path = re.sub(r'\\w+\\/', \"\", instance_path)\n",
    "\n",
    "        # Add new line to the dataframe\n",
    "        self.df.loc[len(self.df)] = [instance_path, heuristic, elapsed_time, result.stdout.strip()]\n",
    "        self.df[self.numeric_columns] = self.df[self.numeric_columns].apply(pd.to_numeric)\n",
    "\n",
    "        return self.df\n",
    "\n",
    "\n",
    "    def average_time(self):\n",
    "        average_df = self.df.groupby('Instance', as_index=False)['Time (s)'].mean()\n",
    "        average_df.rename(columns={\"Time (s)\": \"Average Time (s)\"}, inplace=True)\n",
    "        return average_df\n",
    "\n",
    "\n",
    "    def average_results(self):\n",
    "        average_df = self.df.groupby('Instance', as_index=False)['Result'].mean()\n",
    "        average_df.rename(columns={\"Result\": \"Average Result\"}, inplace=True)\n",
    "        return average_df\n",
    "\n",
    "\n",
    "    def reset_report(self):\n",
    "        self.df = pd.DataFrame(columns=[\"Instance\", \"Heuristic\", \"Time (s)\", \"Result\"])"
   ]
  },
  {
   "cell_type": "code",
   "execution_count": 276,
   "metadata": {},
   "outputs": [],
   "source": [
    "report = Report()"
   ]
  },
  {
   "cell_type": "code",
   "execution_count": null,
   "metadata": {},
   "outputs": [],
   "source": [
    "directory = \"instances/EUC_2D\"\n",
    "number_of_iterations = 100\n",
    "\n",
    "for n in range(number_of_iterations):\n",
    "    for file in os.listdir(directory):\n",
    "        filepath = os.path.join(directory, file)\n",
    "        report.generate_report(filepath)\n",
    "\n",
    "    NN_df = report.generate_report(\"instances/att48.tsp\")"
   ]
  },
  {
   "cell_type": "code",
   "execution_count": null,
   "metadata": {},
   "outputs": [],
   "source": [
    "df_time = report.average_time()\n",
    "df_result = report.average_results()\n",
    "\n",
    "final_report = pd.merge(df_time, df_result, on=\"Instance\")\n",
    "\n",
    "display(final_report)"
   ]
  }
 ],
 "metadata": {
  "kernelspec": {
   "display_name": "Python 3",
   "language": "python",
   "name": "python3"
  },
  "language_info": {
   "codemirror_mode": {
    "name": "ipython",
    "version": 3
   },
   "file_extension": ".py",
   "mimetype": "text/x-python",
   "name": "python",
   "nbconvert_exporter": "python",
   "pygments_lexer": "ipython3",
   "version": "3.10.12"
  }
 },
 "nbformat": 4,
 "nbformat_minor": 2
}
